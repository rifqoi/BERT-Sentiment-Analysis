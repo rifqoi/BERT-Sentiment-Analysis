{
 "cells": [
  {
   "cell_type": "code",
   "execution_count": 109,
   "metadata": {},
   "outputs": [],
   "source": [
    "import pandas as pd\n",
    "import nltk\n",
    "import emoji\n",
    "import re\n",
    "from IPython.display import display\n",
    "\n",
    "pd.set_option('display.max_columns', None) # or 1000."
   ]
  },
  {
   "cell_type": "code",
   "execution_count": 147,
   "metadata": {},
   "outputs": [
    {
     "name": "stdout",
     "output_type": "stream",
     "text": [
      "showing info https://raw.githubusercontent.com/nltk/nltk_data/gh-pages/index.xml\n"
     ]
    },
    {
     "data": {
      "text/plain": [
       "True"
      ]
     },
     "execution_count": 147,
     "metadata": {},
     "output_type": "execute_result"
    }
   ],
   "source": [
    "nltk.download()"
   ]
  },
  {
   "cell_type": "code",
   "execution_count": 55,
   "metadata": {},
   "outputs": [
    {
     "name": "stdout",
     "output_type": "stream",
     "text": [
      "<class 'pandas.core.frame.DataFrame'>\n",
      "RangeIndex: 10000 entries, 0 to 9999\n",
      "Data columns (total 28 columns):\n",
      " #   Column            Non-Null Count  Dtype              \n",
      "---  ------            --------------  -----              \n",
      " 0   _type             10000 non-null  object             \n",
      " 1   url               10000 non-null  object             \n",
      " 2   date              10000 non-null  datetime64[ns, UTC]\n",
      " 3   content           10000 non-null  object             \n",
      " 4   renderedContent   10000 non-null  object             \n",
      " 5   id                10000 non-null  int64              \n",
      " 6   user              10000 non-null  object             \n",
      " 7   replyCount        10000 non-null  int64              \n",
      " 8   retweetCount      10000 non-null  int64              \n",
      " 9   likeCount         10000 non-null  int64              \n",
      " 10  quoteCount        10000 non-null  int64              \n",
      " 11  conversationId    10000 non-null  int64              \n",
      " 12  lang              10000 non-null  object             \n",
      " 13  source            10000 non-null  object             \n",
      " 14  sourceUrl         10000 non-null  object             \n",
      " 15  sourceLabel       10000 non-null  object             \n",
      " 16  outlinks          4417 non-null   object             \n",
      " 17  tcooutlinks       4417 non-null   object             \n",
      " 18  media             1887 non-null   object             \n",
      " 19  retweetedTweet    0 non-null      float64            \n",
      " 20  quotedTweet       487 non-null    object             \n",
      " 21  inReplyToTweetId  4145 non-null   float64            \n",
      " 22  inReplyToUser     4145 non-null   object             \n",
      " 23  mentionedUsers    4612 non-null   object             \n",
      " 24  coordinates       268 non-null    object             \n",
      " 25  place             268 non-null    object             \n",
      " 26  hashtags          2112 non-null   object             \n",
      " 27  cashtags          0 non-null      float64            \n",
      "dtypes: datetime64[ns, UTC](1), float64(3), int64(6), object(18)\n",
      "memory usage: 2.1+ MB\n",
      "None\n",
      "<class 'pandas.core.frame.DataFrame'>\n",
      "RangeIndex: 7167 entries, 0 to 7166\n",
      "Data columns (total 37 columns):\n",
      " #   Column           Non-Null Count  Dtype  \n",
      "---  ------           --------------  -----  \n",
      " 0   Unnamed: 0       7167 non-null   int64  \n",
      " 1   id               7167 non-null   int64  \n",
      " 2   conversation_id  7167 non-null   int64  \n",
      " 3   created_at       7167 non-null   object \n",
      " 4   date             7167 non-null   object \n",
      " 5   time             7167 non-null   object \n",
      " 6   timezone         7167 non-null   int64  \n",
      " 7   user_id          7167 non-null   int64  \n",
      " 8   username         7167 non-null   object \n",
      " 9   name             7167 non-null   object \n",
      " 10  place            1 non-null      object \n",
      " 11  tweet            7167 non-null   object \n",
      " 12  language         7167 non-null   object \n",
      " 13  mentions         7167 non-null   object \n",
      " 14  urls             7167 non-null   object \n",
      " 15  photos           7167 non-null   object \n",
      " 16  replies_count    7167 non-null   int64  \n",
      " 17  retweets_count   7167 non-null   int64  \n",
      " 18  likes_count      7167 non-null   int64  \n",
      " 19  hashtags         7167 non-null   object \n",
      " 20  cashtags         7167 non-null   object \n",
      " 21  link             7167 non-null   object \n",
      " 22  retweet          7167 non-null   bool   \n",
      " 23  quote_url        453 non-null    object \n",
      " 24  video            7167 non-null   int64  \n",
      " 25  thumbnail        1295 non-null   object \n",
      " 26  near             0 non-null      float64\n",
      " 27  geo              0 non-null      float64\n",
      " 28  source           0 non-null      float64\n",
      " 29  user_rt_id       0 non-null      float64\n",
      " 30  user_rt          0 non-null      float64\n",
      " 31  retweet_id       0 non-null      float64\n",
      " 32  reply_to         7167 non-null   object \n",
      " 33  retweet_date     0 non-null      float64\n",
      " 34  translate        0 non-null      float64\n",
      " 35  trans_src        0 non-null      float64\n",
      " 36  trans_dest       0 non-null      float64\n",
      "dtypes: bool(1), float64(10), int64(9), object(17)\n",
      "memory usage: 2.0+ MB\n",
      "None\n"
     ]
    }
   ],
   "source": [
    "df1 = pd.read_json('formulae-snscrape.json', lines=True)\n",
    "df2 = pd.read_csv('formula_e.csv')\n",
    "print(df1.info())\n",
    "print(df2.info())"
   ]
  },
  {
   "cell_type": "code",
   "execution_count": 61,
   "metadata": {},
   "outputs": [
    {
     "data": {
      "text/plain": [
       "Index(['id', 'conversation_id', 'created_at', 'date', 'time', 'timezone',\n",
       "       'user_id', 'username', 'name', 'place', 'tweet', 'language', 'mentions',\n",
       "       'urls', 'photos', 'replies_count', 'retweets_count', 'likes_count',\n",
       "       'hashtags', 'cashtags', 'link', 'retweet', 'quote_url', 'video',\n",
       "       'thumbnail', 'near', 'geo', 'source', 'user_rt_id', 'user_rt',\n",
       "       'retweet_id', 'reply_to', 'retweet_date', 'translate', 'trans_src',\n",
       "       'trans_dest'],\n",
       "      dtype='object')"
      ]
     },
     "execution_count": 61,
     "metadata": {},
     "output_type": "execute_result"
    }
   ],
   "source": [
    "df2 = df2.drop('Unnamed: 0', axis=1)\n",
    "df2.columns"
   ]
  },
  {
   "cell_type": "code",
   "execution_count": 86,
   "metadata": {},
   "outputs": [
    {
     "data": {
      "text/plain": [
       "0       Gembong-PDIP Curiga Anies Paksa ASN DKI Beli T...\n",
       "1       KPK tegaskan tak main-main usut dugaan korupsi...\n",
       "2       Pengaspalan sirkuit Formula E Jakarta di kawas...\n",
       "3       Dia, melabali pengkritik sebagai pembebci...!!...\n",
       "4       KPK Harus Naikkan Status Kasus Formula E ke Pe...\n",
       "                              ...                        \n",
       "7159    Wakil Ketua Komisi E DPRD DKI Anggara Wicitra ...\n",
       "7160    @AlfathMauzy @f1speed_indo \"Wow ini lah tampak...\n",
       "7162      @asumsico Kirain formula e yg mau ditambahin jg\n",
       "7163    @danugraha54 @YZhireng @haluanghabang @Dennysi...\n",
       "7166    Kapan Tiket Formula E Mulai Dijual? Begini Jaw...\n",
       "Name: tweet, Length: 2960, dtype: object"
      ]
     },
     "execution_count": 86,
     "metadata": {},
     "output_type": "execute_result"
    }
   ],
   "source": [
    "df2_indo = df2[df2.language == 'in']\n",
    "df2_indo.tweet"
   ]
  },
  {
   "cell_type": "code",
   "execution_count": 70,
   "metadata": {},
   "outputs": [
    {
     "data": {
      "text/plain": [
       "0       Dalam dua bulan Jakarta akan menjadi tuan ruma...\n",
       "1       KPK tegaskan tak main-main usut dugaan korupsi...\n",
       "2       Pengaspalan sirkuit Formula E Jakarta di kawas...\n",
       "3       https://t.co/CJ0pw6Hu0O\\nKlo dilaporin dalangn...\n",
       "4       @Adi_8002 Kadrun mau demo\" di jakarta, sementa...\n",
       "                              ...                        \n",
       "9995    @umar_hasibuan75 @KPK_RI @paijodirajo @yudihar...\n",
       "9996    (24)Coba biaya Formula E yang sampai triliunan...\n",
       "9997    Loh, ada apa ini?\\nJakpro kan  penyelenggara F...\n",
       "9998    Direktur Eksekutif LKAB Rudi S Kamri mengataka...\n",
       "9999    Loh, ada apa ini?\\nJakpro kan  penyelenggara F...\n",
       "Name: content, Length: 9561, dtype: object"
      ]
     },
     "execution_count": 70,
     "metadata": {},
     "output_type": "execute_result"
    }
   ],
   "source": [
    "df1_indo = df1[df1.lang == 'in']\n",
    "df1_indo['content']"
   ]
  },
  {
   "cell_type": "code",
   "execution_count": 98,
   "metadata": {},
   "outputs": [
    {
     "name": "stdout",
     "output_type": "stream",
     "text": [
      "(12521, 1)\n"
     ]
    },
    {
     "data": {
      "text/html": [
       "<div>\n",
       "<style scoped>\n",
       "    .dataframe tbody tr th:only-of-type {\n",
       "        vertical-align: middle;\n",
       "    }\n",
       "\n",
       "    .dataframe tbody tr th {\n",
       "        vertical-align: top;\n",
       "    }\n",
       "\n",
       "    .dataframe thead th {\n",
       "        text-align: right;\n",
       "    }\n",
       "</style>\n",
       "<table border=\"1\" class=\"dataframe\">\n",
       "  <thead>\n",
       "    <tr style=\"text-align: right;\">\n",
       "      <th></th>\n",
       "      <th>tweets</th>\n",
       "    </tr>\n",
       "  </thead>\n",
       "  <tbody>\n",
       "    <tr>\n",
       "      <th>0</th>\n",
       "      <td>Dalam dua bulan Jakarta akan menjadi tuan ruma...</td>\n",
       "    </tr>\n",
       "    <tr>\n",
       "      <th>1</th>\n",
       "      <td>KPK tegaskan tak main-main usut dugaan korupsi...</td>\n",
       "    </tr>\n",
       "    <tr>\n",
       "      <th>2</th>\n",
       "      <td>Pengaspalan sirkuit Formula E Jakarta di kawas...</td>\n",
       "    </tr>\n",
       "    <tr>\n",
       "      <th>3</th>\n",
       "      <td>https://t.co/CJ0pw6Hu0O\\nKlo dilaporin dalangn...</td>\n",
       "    </tr>\n",
       "    <tr>\n",
       "      <th>4</th>\n",
       "      <td>@Adi_8002 Kadrun mau demo\" di jakarta, sementa...</td>\n",
       "    </tr>\n",
       "    <tr>\n",
       "      <th>...</th>\n",
       "      <td>...</td>\n",
       "    </tr>\n",
       "    <tr>\n",
       "      <th>12516</th>\n",
       "      <td>Wakil Ketua Komisi E DPRD DKI Anggara Wicitra ...</td>\n",
       "    </tr>\n",
       "    <tr>\n",
       "      <th>12517</th>\n",
       "      <td>@AlfathMauzy @f1speed_indo \"Wow ini lah tampak...</td>\n",
       "    </tr>\n",
       "    <tr>\n",
       "      <th>12518</th>\n",
       "      <td>@asumsico Kirain formula e yg mau ditambahin jg</td>\n",
       "    </tr>\n",
       "    <tr>\n",
       "      <th>12519</th>\n",
       "      <td>@danugraha54 @YZhireng @haluanghabang @Dennysi...</td>\n",
       "    </tr>\n",
       "    <tr>\n",
       "      <th>12520</th>\n",
       "      <td>Kapan Tiket Formula E Mulai Dijual? Begini Jaw...</td>\n",
       "    </tr>\n",
       "  </tbody>\n",
       "</table>\n",
       "<p>12521 rows × 1 columns</p>\n",
       "</div>"
      ],
      "text/plain": [
       "                                                  tweets\n",
       "0      Dalam dua bulan Jakarta akan menjadi tuan ruma...\n",
       "1      KPK tegaskan tak main-main usut dugaan korupsi...\n",
       "2      Pengaspalan sirkuit Formula E Jakarta di kawas...\n",
       "3      https://t.co/CJ0pw6Hu0O\\nKlo dilaporin dalangn...\n",
       "4      @Adi_8002 Kadrun mau demo\" di jakarta, sementa...\n",
       "...                                                  ...\n",
       "12516  Wakil Ketua Komisi E DPRD DKI Anggara Wicitra ...\n",
       "12517  @AlfathMauzy @f1speed_indo \"Wow ini lah tampak...\n",
       "12518    @asumsico Kirain formula e yg mau ditambahin jg\n",
       "12519  @danugraha54 @YZhireng @haluanghabang @Dennysi...\n",
       "12520  Kapan Tiket Formula E Mulai Dijual? Begini Jaw...\n",
       "\n",
       "[12521 rows x 1 columns]"
      ]
     },
     "execution_count": 98,
     "metadata": {},
     "output_type": "execute_result"
    }
   ],
   "source": [
    "tweets_df = pd.DataFrame()\n",
    "\n",
    "tweets_df['tweets'] = pd.concat([df1_indo.content, df2_indo.tweet], ignore_index=True)\n",
    "print(tweets_df.shape)\n",
    "tweets_df"
   ]
  },
  {
   "cell_type": "code",
   "execution_count": 102,
   "metadata": {},
   "outputs": [
    {
     "data": {
      "text/html": [
       "<div>\n",
       "<style scoped>\n",
       "    .dataframe tbody tr th:only-of-type {\n",
       "        vertical-align: middle;\n",
       "    }\n",
       "\n",
       "    .dataframe tbody tr th {\n",
       "        vertical-align: top;\n",
       "    }\n",
       "\n",
       "    .dataframe thead th {\n",
       "        text-align: right;\n",
       "    }\n",
       "</style>\n",
       "<table border=\"1\" class=\"dataframe\">\n",
       "  <thead>\n",
       "    <tr style=\"text-align: right;\">\n",
       "      <th></th>\n",
       "      <th>tweets</th>\n",
       "    </tr>\n",
       "  </thead>\n",
       "  <tbody>\n",
       "    <tr>\n",
       "      <th>0</th>\n",
       "      <td>Dalam dua bulan Jakarta akan menjadi tuan ruma...</td>\n",
       "    </tr>\n",
       "    <tr>\n",
       "      <th>1</th>\n",
       "      <td>KPK tegaskan tak main-main usut dugaan korupsi...</td>\n",
       "    </tr>\n",
       "    <tr>\n",
       "      <th>2</th>\n",
       "      <td>Pengaspalan sirkuit Formula E Jakarta di kawas...</td>\n",
       "    </tr>\n",
       "    <tr>\n",
       "      <th>3</th>\n",
       "      <td>https://t.co/CJ0pw6Hu0O\\nKlo dilaporin dalangn...</td>\n",
       "    </tr>\n",
       "    <tr>\n",
       "      <th>4</th>\n",
       "      <td>@Adi_8002 Kadrun mau demo\" di jakarta, sementa...</td>\n",
       "    </tr>\n",
       "    <tr>\n",
       "      <th>...</th>\n",
       "      <td>...</td>\n",
       "    </tr>\n",
       "    <tr>\n",
       "      <th>11606</th>\n",
       "      <td>lha koq liatnya mirip sirkuit Formula E di Anc...</td>\n",
       "    </tr>\n",
       "    <tr>\n",
       "      <th>11607</th>\n",
       "      <td>@AlfathMauzy @f1speed_indo \"Wow ini lah tampak...</td>\n",
       "    </tr>\n",
       "    <tr>\n",
       "      <th>11608</th>\n",
       "      <td>@asumsico Kirain formula e yg mau ditambahin jg</td>\n",
       "    </tr>\n",
       "    <tr>\n",
       "      <th>11609</th>\n",
       "      <td>@danugraha54 @YZhireng @haluanghabang @Dennysi...</td>\n",
       "    </tr>\n",
       "    <tr>\n",
       "      <th>11610</th>\n",
       "      <td>Kapan Tiket Formula E Mulai Dijual? Begini Jaw...</td>\n",
       "    </tr>\n",
       "  </tbody>\n",
       "</table>\n",
       "<p>11611 rows × 1 columns</p>\n",
       "</div>"
      ],
      "text/plain": [
       "                                                  tweets\n",
       "0      Dalam dua bulan Jakarta akan menjadi tuan ruma...\n",
       "1      KPK tegaskan tak main-main usut dugaan korupsi...\n",
       "2      Pengaspalan sirkuit Formula E Jakarta di kawas...\n",
       "3      https://t.co/CJ0pw6Hu0O\\nKlo dilaporin dalangn...\n",
       "4      @Adi_8002 Kadrun mau demo\" di jakarta, sementa...\n",
       "...                                                  ...\n",
       "11606  lha koq liatnya mirip sirkuit Formula E di Anc...\n",
       "11607  @AlfathMauzy @f1speed_indo \"Wow ini lah tampak...\n",
       "11608    @asumsico Kirain formula e yg mau ditambahin jg\n",
       "11609  @danugraha54 @YZhireng @haluanghabang @Dennysi...\n",
       "11610  Kapan Tiket Formula E Mulai Dijual? Begini Jaw...\n",
       "\n",
       "[11611 rows x 1 columns]"
      ]
     },
     "execution_count": 102,
     "metadata": {},
     "output_type": "execute_result"
    }
   ],
   "source": [
    "tweets_df = tweets_df.drop_duplicates(ignore_index=True)\n",
    "tweets_df"
   ]
  },
  {
   "cell_type": "code",
   "execution_count": 143,
   "metadata": {},
   "outputs": [
    {
     "data": {
      "text/html": [
       "<div>\n",
       "<style scoped>\n",
       "    .dataframe tbody tr th:only-of-type {\n",
       "        vertical-align: middle;\n",
       "    }\n",
       "\n",
       "    .dataframe tbody tr th {\n",
       "        vertical-align: top;\n",
       "    }\n",
       "\n",
       "    .dataframe thead th {\n",
       "        text-align: right;\n",
       "    }\n",
       "</style>\n",
       "<table border=\"1\" class=\"dataframe\">\n",
       "  <thead>\n",
       "    <tr style=\"text-align: right;\">\n",
       "      <th></th>\n",
       "      <th>tweets</th>\n",
       "      <th>clean_tweets</th>\n",
       "    </tr>\n",
       "  </thead>\n",
       "  <tbody>\n",
       "    <tr>\n",
       "      <th>0</th>\n",
       "      <td>Dalam dua bulan Jakarta akan menjadi tuan ruma...</td>\n",
       "      <td>Dalam dua bulan Jakarta akan menjadi tuan ruma...</td>\n",
       "    </tr>\n",
       "    <tr>\n",
       "      <th>1</th>\n",
       "      <td>KPK tegaskan tak main-main usut dugaan korupsi...</td>\n",
       "      <td>KPK tegaskan tak main-main usut dugaan korupsi...</td>\n",
       "    </tr>\n",
       "    <tr>\n",
       "      <th>2</th>\n",
       "      <td>Pengaspalan sirkuit Formula E Jakarta di kawas...</td>\n",
       "      <td>Pengaspalan sirkuit Formula E Jakarta di kawas...</td>\n",
       "    </tr>\n",
       "    <tr>\n",
       "      <th>3</th>\n",
       "      <td>https://t.co/CJ0pw6Hu0O\\nKlo dilaporin dalangn...</td>\n",
       "      <td>Klo dilaporin dalangnya siapa, apa  brani ngus...</td>\n",
       "    </tr>\n",
       "    <tr>\n",
       "      <th>4</th>\n",
       "      <td>@Adi_8002 Kadrun mau demo\" di jakarta, sementa...</td>\n",
       "      <td>Kadrun mau demo\" di jakarta, sementara gubernu...</td>\n",
       "    </tr>\n",
       "    <tr>\n",
       "      <th>...</th>\n",
       "      <td>...</td>\n",
       "      <td>...</td>\n",
       "    </tr>\n",
       "    <tr>\n",
       "      <th>11606</th>\n",
       "      <td>lha koq liatnya mirip sirkuit Formula E di Anc...</td>\n",
       "      <td>lha koq liatnya mirip sirkuit Formula E di Anc...</td>\n",
       "    </tr>\n",
       "    <tr>\n",
       "      <th>11607</th>\n",
       "      <td>@AlfathMauzy @f1speed_indo \"Wow ini lah tampak...</td>\n",
       "      <td>\"Wow ini lah tampak sirkuit formula e di Indo ...</td>\n",
       "    </tr>\n",
       "    <tr>\n",
       "      <th>11608</th>\n",
       "      <td>@asumsico Kirain formula e yg mau ditambahin jg</td>\n",
       "      <td>Kirain formula e yg mau ditambahin jg</td>\n",
       "    </tr>\n",
       "    <tr>\n",
       "      <th>11609</th>\n",
       "      <td>@danugraha54 @YZhireng @haluanghabang @Dennysi...</td>\n",
       "      <td>Memang ketololan cebong gk ketulungan, disamar...</td>\n",
       "    </tr>\n",
       "    <tr>\n",
       "      <th>11610</th>\n",
       "      <td>Kapan Tiket Formula E Mulai Dijual? Begini Jaw...</td>\n",
       "      <td>Kapan Tiket Formula E Mulai Dijual? Begini Jaw...</td>\n",
       "    </tr>\n",
       "  </tbody>\n",
       "</table>\n",
       "<p>11611 rows × 2 columns</p>\n",
       "</div>"
      ],
      "text/plain": [
       "                                                  tweets  \\\n",
       "0      Dalam dua bulan Jakarta akan menjadi tuan ruma...   \n",
       "1      KPK tegaskan tak main-main usut dugaan korupsi...   \n",
       "2      Pengaspalan sirkuit Formula E Jakarta di kawas...   \n",
       "3      https://t.co/CJ0pw6Hu0O\\nKlo dilaporin dalangn...   \n",
       "4      @Adi_8002 Kadrun mau demo\" di jakarta, sementa...   \n",
       "...                                                  ...   \n",
       "11606  lha koq liatnya mirip sirkuit Formula E di Anc...   \n",
       "11607  @AlfathMauzy @f1speed_indo \"Wow ini lah tampak...   \n",
       "11608    @asumsico Kirain formula e yg mau ditambahin jg   \n",
       "11609  @danugraha54 @YZhireng @haluanghabang @Dennysi...   \n",
       "11610  Kapan Tiket Formula E Mulai Dijual? Begini Jaw...   \n",
       "\n",
       "                                            clean_tweets  \n",
       "0      Dalam dua bulan Jakarta akan menjadi tuan ruma...  \n",
       "1      KPK tegaskan tak main-main usut dugaan korupsi...  \n",
       "2      Pengaspalan sirkuit Formula E Jakarta di kawas...  \n",
       "3      Klo dilaporin dalangnya siapa, apa  brani ngus...  \n",
       "4      Kadrun mau demo\" di jakarta, sementara gubernu...  \n",
       "...                                                  ...  \n",
       "11606  lha koq liatnya mirip sirkuit Formula E di Anc...  \n",
       "11607  \"Wow ini lah tampak sirkuit formula e di Indo ...  \n",
       "11608              Kirain formula e yg mau ditambahin jg  \n",
       "11609  Memang ketololan cebong gk ketulungan, disamar...  \n",
       "11610  Kapan Tiket Formula E Mulai Dijual? Begini Jaw...  \n",
       "\n",
       "[11611 rows x 2 columns]"
      ]
     },
     "execution_count": 143,
     "metadata": {},
     "output_type": "execute_result"
    }
   ],
   "source": [
    "def clean_data(series):\n",
    "    clean_tweets = []\n",
    "    for tweet in series:\n",
    "        tweet = re.sub(\"@[A-Za-z0-9]\\w+\",\"\",tweet) #Remove @ sign\n",
    "        tweet = re.sub(r\"(?:\\@|http?\\://|https?\\://|www)\\S+\", \"\", tweet) #Remove http links\n",
    "        tweet = emoji.replace_emoji(tweet, '') # Remove emoji\n",
    "        tweet = tweet.replace(\"#\", \"\").replace(\"_\", \" \") #Remove hashtag sign but keep the text\n",
    "        tweet = tweet.strip()\n",
    "        clean_tweets.append(tweet)\n",
    "    return clean_tweets\n",
    "\n",
    "tweets_df['clean_tweets'] = clean_data(tweets_df.tweets)\n",
    "tweets_df"
   ]
  },
  {
   "cell_type": "code",
   "execution_count": 144,
   "metadata": {},
   "outputs": [
    {
     "name": "stdout",
     "output_type": "stream",
     "text": [
      "https://t.co/CJ0pw6Hu0O\n",
      "Klo dilaporin dalangnya siapa, apa @KPK_RI brani ngusut+nangkap? Wong kasus formula e dkk di Jakarta aja di diemin 😅😅😅, apa lg kasus ini 😅 \n",
      "\n",
      "Klo dilaporin dalangnya siapa, apa  brani ngusut+nangkap? Wong kasus formula e dkk di Jakarta aja di diemin , apa lg kasus ini\n"
     ]
    }
   ],
   "source": [
    "print(tweets_df.tweets[3], '\\n')\n",
    "print(tweets_df.clean_tweets[3])"
   ]
  },
  {
   "cell_type": "code",
   "execution_count": 152,
   "metadata": {},
   "outputs": [
    {
     "data": {
      "text/plain": [
       "['ada',\n",
       " 'adalah',\n",
       " 'adanya',\n",
       " 'adapun',\n",
       " 'agak',\n",
       " 'agaknya',\n",
       " 'agar',\n",
       " 'akan',\n",
       " 'akankah',\n",
       " 'akhir']"
      ]
     },
     "execution_count": 152,
     "metadata": {},
     "output_type": "execute_result"
    }
   ],
   "source": [
    "from nltk.corpus import stopwords\n",
    "stopwords.words('indonesian')[:10]"
   ]
  },
  {
   "cell_type": "code",
   "execution_count": null,
   "metadata": {},
   "outputs": [],
   "source": []
  }
 ],
 "metadata": {
  "interpreter": {
   "hash": "76e39de724ec8c75e9db06a483da7fa5d2114d3b30a17883cdeb1cb92ee4b8ea"
  },
  "kernelspec": {
   "display_name": "Python 3.9.7 ('data-exercises')",
   "language": "python",
   "name": "python3"
  },
  "language_info": {
   "codemirror_mode": {
    "name": "ipython",
    "version": 3
   },
   "file_extension": ".py",
   "mimetype": "text/x-python",
   "name": "python",
   "nbconvert_exporter": "python",
   "pygments_lexer": "ipython3",
   "version": "3.9.7"
  },
  "orig_nbformat": 4
 },
 "nbformat": 4,
 "nbformat_minor": 2
}
